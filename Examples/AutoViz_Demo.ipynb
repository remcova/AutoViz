{
 "cells": [
  {
   "cell_type": "markdown",
   "metadata": {},
   "source": [
    "# AutoViz no longer displays plots automatically. You must perform %matplotlib inline just before you run AutoViz on your data."
   ]
  },
  {
   "cell_type": "code",
   "execution_count": 38,
   "metadata": {},
   "outputs": [],
   "source": [
    "import pandas as pd\n",
    "import numpy as np"
   ]
  },
  {
   "cell_type": "raw",
   "metadata": {
    "scrolled": false
   },
   "source": [
    "###########  import Autoviz_Class ################"
   ]
  },
  {
   "cell_type": "code",
   "execution_count": 39,
   "metadata": {},
   "outputs": [],
   "source": [
    "from autoviz.AutoViz_Class import AutoViz_Class"
   ]
  },
  {
   "cell_type": "raw",
   "metadata": {
    "scrolled": false
   },
   "source": [
    "###########  set up the data #####################"
   ]
  },
  {
   "cell_type": "code",
   "execution_count": 69,
   "metadata": {},
   "outputs": [
    {
     "name": "stdout",
     "output_type": "stream",
     "text": [
      "Data successfully written to ga4_data.csv\n"
     ]
    },
    {
     "data": {
      "text/html": [
       "<div>\n",
       "<style scoped>\n",
       "    .dataframe tbody tr th:only-of-type {\n",
       "        vertical-align: middle;\n",
       "    }\n",
       "\n",
       "    .dataframe tbody tr th {\n",
       "        vertical-align: top;\n",
       "    }\n",
       "\n",
       "    .dataframe thead th {\n",
       "        text-align: right;\n",
       "    }\n",
       "</style>\n",
       "<table border=\"1\" class=\"dataframe\">\n",
       "  <thead>\n",
       "    <tr style=\"text-align: center;\">\n",
       "      <th></th>\n",
       "      <th>city</th>\n",
       "      <th>active28DayUsers</th>\n",
       "      <th>activeUsers</th>\n",
       "    </tr>\n",
       "  </thead>\n",
       "  <tbody>\n",
       "    <tr>\n",
       "      <th>0</th>\n",
       "      <td>34240</td>\n",
       "      <td>1</td>\n",
       "      <td>1</td>\n",
       "    </tr>\n",
       "    <tr>\n",
       "      <th>1</th>\n",
       "      <td>67471</td>\n",
       "      <td>1</td>\n",
       "      <td>1</td>\n",
       "    </tr>\n",
       "    <tr>\n",
       "      <th>2</th>\n",
       "      <td>Aachen</td>\n",
       "      <td>1</td>\n",
       "      <td>0</td>\n",
       "    </tr>\n",
       "    <tr>\n",
       "      <th>3</th>\n",
       "      <td>Aalst</td>\n",
       "      <td>1</td>\n",
       "      <td>1</td>\n",
       "    </tr>\n",
       "    <tr>\n",
       "      <th>4</th>\n",
       "      <td>Abbotsford</td>\n",
       "      <td>1</td>\n",
       "      <td>0</td>\n",
       "    </tr>\n",
       "    <tr>\n",
       "      <th>5</th>\n",
       "      <td>Aberdeen</td>\n",
       "      <td>1</td>\n",
       "      <td>1</td>\n",
       "    </tr>\n",
       "    <tr>\n",
       "      <th>6</th>\n",
       "      <td>Abu Dhabi</td>\n",
       "      <td>1</td>\n",
       "      <td>0</td>\n",
       "    </tr>\n",
       "    <tr>\n",
       "      <th>7</th>\n",
       "      <td>Adamsville</td>\n",
       "      <td>1</td>\n",
       "      <td>1</td>\n",
       "    </tr>\n",
       "    <tr>\n",
       "      <th>8</th>\n",
       "      <td>Addlestone</td>\n",
       "      <td>1</td>\n",
       "      <td>1</td>\n",
       "    </tr>\n",
       "    <tr>\n",
       "      <th>9</th>\n",
       "      <td>Adelanto</td>\n",
       "      <td>1</td>\n",
       "      <td>1</td>\n",
       "    </tr>\n",
       "    <tr>\n",
       "      <th>10</th>\n",
       "      <td>Adrogue</td>\n",
       "      <td>1</td>\n",
       "      <td>1</td>\n",
       "    </tr>\n",
       "    <tr>\n",
       "      <th>11</th>\n",
       "      <td>Agadir</td>\n",
       "      <td>1</td>\n",
       "      <td>0</td>\n",
       "    </tr>\n",
       "    <tr>\n",
       "      <th>12</th>\n",
       "      <td>Aguadilla</td>\n",
       "      <td>1</td>\n",
       "      <td>0</td>\n",
       "    </tr>\n",
       "    <tr>\n",
       "      <th>13</th>\n",
       "      <td>Alameda</td>\n",
       "      <td>1</td>\n",
       "      <td>0</td>\n",
       "    </tr>\n",
       "    <tr>\n",
       "      <th>14</th>\n",
       "      <td>Alappuzha</td>\n",
       "      <td>1</td>\n",
       "      <td>1</td>\n",
       "    </tr>\n",
       "  </tbody>\n",
       "</table>\n",
       "</div>"
      ],
      "text/plain": [
       "       city     active28DayUsers  activeUsers\n",
       "0        34240          1              1     \n",
       "1        67471          1              1     \n",
       "2       Aachen          1              0     \n",
       "3        Aalst          1              1     \n",
       "4   Abbotsford          1              0     \n",
       "5     Aberdeen          1              1     \n",
       "6    Abu Dhabi          1              0     \n",
       "7   Adamsville          1              1     \n",
       "8   Addlestone          1              1     \n",
       "9     Adelanto          1              1     \n",
       "10     Adrogue          1              1     \n",
       "11      Agadir          1              0     \n",
       "12   Aguadilla          1              0     \n",
       "13     Alameda          1              0     \n",
       "14   Alappuzha          1              1     "
      ]
     },
     "execution_count": 69,
     "metadata": {},
     "output_type": "execute_result"
    }
   ],
   "source": [
    "import json\n",
    "import csv\n",
    "\n",
    "filename = '/Users/remcovanakker/Documents/AutoViz/ga4_response_example.json'\n",
    "depVar = 'medv'\n",
    "sep = ','\n",
    "\n",
    "def isString(var):\n",
    "    if isinstance(var, str):\n",
    "        return var\n",
    "\n",
    "\n",
    "# Step 1: Read JSON file\n",
    "with open(filename, 'r') as file:\n",
    "    data = json.load(file)\n",
    "\n",
    "# Extract headers\n",
    "headers = [isString(header[\"name\"]) for header in data[\"dimensionHeaders\"]]\n",
    "metric_headers = [isString(entry[\"name\"]) for entry in data[\"metricHeaders\"]]\n",
    "headers.extend(metric_headers)\n",
    "\n",
    "# Extract rows\n",
    "rows = []\n",
    "for row in data[\"rows\"]:\n",
    "    dimensions = [isString(dimension[\"value\"].replace(\"(\", \"\").replace(\")\", \"\")) for dimension in row[\"dimensionValues\"]]\n",
    "    metrics = [isString(metric[\"value\"]) for metric in row[\"metricValues\"]]\n",
    "    rows.append(dimensions + metrics)\n",
    "\n",
    "# Write to CSV\n",
    "csv_file = 'ga4_data.csv'\n",
    "with open(csv_file, mode='w', newline='') as file:\n",
    "    writer = csv.writer(file)\n",
    "    writer.writerow(headers)  # Writing the header\n",
    "    writer.writerows(rows)    # Writing the data\n",
    "\n",
    "print(f'Data successfully written to {csv_file}')\n",
    "\n",
    "# Step 2: Convert JSON to Pandas DataFrame (if needed)\n",
    "# Assuming the JSON data is a list of dictionaries\n",
    "import pandas as pd\n",
    "# df = pd.DataFrame(data)\n",
    "df = pd.read_csv(\"/Users/remcovanakker/Documents/AutoViz/Examples/ga4_data.csv\")\n",
    "df.head(15)\n",
    "# row = df[df['city'] == 'New York']\n",
    "# print(row)"
   ]
  },
  {
   "cell_type": "raw",
   "metadata": {
    "scrolled": false
   },
   "source": [
    "###########  Create the autoviz_class #############"
   ]
  },
  {
   "cell_type": "code",
   "execution_count": 22,
   "metadata": {},
   "outputs": [],
   "source": [
    "AV = AutoViz_Class()"
   ]
  },
  {
   "cell_type": "raw",
   "metadata": {
    "scrolled": false
   },
   "source": [
    "###########  do %matplotlib inline now ############"
   ]
  },
  {
   "cell_type": "code",
   "execution_count": 23,
   "metadata": {},
   "outputs": [],
   "source": [
    "%matplotlib inline"
   ]
  },
  {
   "cell_type": "raw",
   "metadata": {
    "scrolled": false
   },
   "source": [
    "###########  Now run Autoviz ######################"
   ]
  },
  {
   "cell_type": "code",
   "execution_count": 24,
   "metadata": {
    "scrolled": false
   },
   "outputs": [
    {
     "name": "stdout",
     "output_type": "stream",
     "text": [
      "    Filename is an empty string or file not able to be loaded\n"
     ]
    },
    {
     "ename": "TypeError",
     "evalue": "'NoneType' object is not iterable",
     "output_type": "error",
     "traceback": [
      "\u001b[0;31m---------------------------------------------------------------------------\u001b[0m",
      "\u001b[0;31mTypeError\u001b[0m                                 Traceback (most recent call last)",
      "Cell \u001b[0;32mIn[24], line 1\u001b[0m\n\u001b[0;32m----> 1\u001b[0m _ \u001b[38;5;241m=\u001b[39m \u001b[43mAV\u001b[49m\u001b[38;5;241;43m.\u001b[39;49m\u001b[43mAutoViz\u001b[49m\u001b[43m(\u001b[49m\u001b[43mfilename\u001b[49m\u001b[43m)\u001b[49m\n",
      "File \u001b[0;32m/opt/homebrew/Caskroom/miniforge/base/envs/easylytics/lib/python3.9/site-packages/autoviz/AutoViz_Class.py:239\u001b[0m, in \u001b[0;36mAutoViz_Class.AutoViz\u001b[0;34m(self, filename, sep, depVar, dfte, header, verbose, lowess, chart_format, max_rows_analyzed, max_cols_analyzed, save_plot_dir)\u001b[0m\n\u001b[1;32m    235\u001b[0m     dft \u001b[38;5;241m=\u001b[39m AutoViz_Holo(filename, sep, dep_var, header, verbose,\n\u001b[1;32m    236\u001b[0m                        lowess, chart_format, max_rows_analyzed,\n\u001b[1;32m    237\u001b[0m                        max_cols_analyzed, save_plot_dir)\n\u001b[1;32m    238\u001b[0m \u001b[38;5;28;01melse\u001b[39;00m:\n\u001b[0;32m--> 239\u001b[0m     dft \u001b[38;5;241m=\u001b[39m \u001b[38;5;28;43mself\u001b[39;49m\u001b[38;5;241;43m.\u001b[39;49m\u001b[43mAutoViz_Main\u001b[49m\u001b[43m(\u001b[49m\u001b[43mfilename\u001b[49m\u001b[43m,\u001b[49m\u001b[43m \u001b[49m\u001b[43msep\u001b[49m\u001b[43m,\u001b[49m\u001b[43m \u001b[49m\u001b[43mdep_var\u001b[49m\u001b[43m,\u001b[49m\u001b[43m \u001b[49m\u001b[43mheader\u001b[49m\u001b[43m,\u001b[49m\u001b[43m \u001b[49m\u001b[43mverbose\u001b[49m\u001b[43m,\u001b[49m\n\u001b[1;32m    240\u001b[0m \u001b[43m                            \u001b[49m\u001b[43mlowess\u001b[49m\u001b[43m,\u001b[49m\u001b[43m \u001b[49m\u001b[43mchart_format\u001b[49m\u001b[43m,\u001b[49m\u001b[43m \u001b[49m\u001b[43mmax_rows_analyzed\u001b[49m\u001b[43m,\u001b[49m\n\u001b[1;32m    241\u001b[0m \u001b[43m                            \u001b[49m\u001b[43mmax_cols_analyzed\u001b[49m\u001b[43m,\u001b[49m\u001b[43m \u001b[49m\u001b[43msave_plot_dir\u001b[49m\u001b[43m)\u001b[49m\n\u001b[1;32m    242\u001b[0m \u001b[38;5;28;01mreturn\u001b[39;00m dft\n",
      "File \u001b[0;32m/opt/homebrew/Caskroom/miniforge/base/envs/easylytics/lib/python3.9/site-packages/autoviz/AutoViz_Class.py:275\u001b[0m, in \u001b[0;36mAutoViz_Class.AutoViz_Main\u001b[0;34m(self, filename, sep, dep_var, header, verbose, lowess, chart_format, max_rows_analyzed, max_cols_analyzed, save_plot_dir)\u001b[0m\n\u001b[1;32m    271\u001b[0m \u001b[38;5;66;03m############   Start the clock here and classify variables in data set first ########\u001b[39;00m\n\u001b[1;32m    272\u001b[0m start_time \u001b[38;5;241m=\u001b[39m time\u001b[38;5;241m.\u001b[39mtime()\n\u001b[1;32m    274\u001b[0m (dft, dep_var, id_cols, bool_vars, cats, continuous_vars, discrete_string_vars, date_vars, classes,\n\u001b[0;32m--> 275\u001b[0m  problem_type, selected_cols) \u001b[38;5;241m=\u001b[39m \u001b[43mclassify_print_vars\u001b[49m\u001b[43m(\u001b[49m\u001b[43mfilename\u001b[49m\u001b[43m,\u001b[49m\u001b[43m \u001b[49m\u001b[43msep\u001b[49m\u001b[43m,\u001b[49m\u001b[43m \u001b[49m\u001b[43mmax_rows_analyzed\u001b[49m\u001b[43m,\u001b[49m\u001b[43m \u001b[49m\u001b[43mmax_cols_analyzed\u001b[49m\u001b[43m,\u001b[49m\n\u001b[1;32m    276\u001b[0m \u001b[43m                                                    \u001b[49m\u001b[43mdep_var\u001b[49m\u001b[43m,\u001b[49m\u001b[43m \u001b[49m\u001b[43mheader\u001b[49m\u001b[43m,\u001b[49m\u001b[43m \u001b[49m\u001b[43mverbose\u001b[49m\u001b[43m)\u001b[49m\n\u001b[1;32m    278\u001b[0m \u001b[38;5;66;03m###########  This is where perform data quality checks on data ################\u001b[39;00m\n\u001b[1;32m    279\u001b[0m \u001b[38;5;28;01mif\u001b[39;00m verbose \u001b[38;5;241m>\u001b[39m\u001b[38;5;241m=\u001b[39m \u001b[38;5;241m1\u001b[39m:\n",
      "File \u001b[0;32m/opt/homebrew/Caskroom/miniforge/base/envs/easylytics/lib/python3.9/site-packages/autoviz/AutoViz_Utils.py:1625\u001b[0m, in \u001b[0;36mclassify_print_vars\u001b[0;34m(filename, sep, max_rows_analyzed, max_cols_analyzed, depVar, header, verbose)\u001b[0m\n\u001b[1;32m   1621\u001b[0m     parse_dates \u001b[38;5;241m=\u001b[39m \u001b[38;5;28;01mFalse\u001b[39;00m\n\u001b[1;32m   1623\u001b[0m dfte \u001b[38;5;241m=\u001b[39m load_file_dataframe(dataname, sep\u001b[38;5;241m=\u001b[39msep, header\u001b[38;5;241m=\u001b[39mheader, nrows\u001b[38;5;241m=\u001b[39mmax_rows_analyzed, parse_dates\u001b[38;5;241m=\u001b[39mparse_dates)\n\u001b[0;32m-> 1625\u001b[0m orig_preds \u001b[38;5;241m=\u001b[39m [x \u001b[38;5;28;01mfor\u001b[39;00m x \u001b[38;5;129;01min\u001b[39;00m \u001b[38;5;28;43mlist\u001b[39;49m\u001b[43m(\u001b[49m\u001b[43mdfte\u001b[49m\u001b[43m)\u001b[49m \u001b[38;5;28;01mif\u001b[39;00m x \u001b[38;5;129;01mnot\u001b[39;00m \u001b[38;5;129;01min\u001b[39;00m [depVar]]\n\u001b[1;32m   1626\u001b[0m \u001b[38;5;66;03m#################    CLASSIFY  COLUMNS   HERE    ######################\u001b[39;00m\n\u001b[1;32m   1627\u001b[0m \u001b[38;5;28;01mif\u001b[39;00m \u001b[38;5;28mlen\u001b[39m(dfte) \u001b[38;5;241m>\u001b[39m\u001b[38;5;241m=\u001b[39m \u001b[38;5;241m100000\u001b[39m:\n",
      "\u001b[0;31mTypeError\u001b[0m: 'NoneType' object is not iterable"
     ]
    }
   ],
   "source": [
    "_ = AV.AutoViz(filename)"
   ]
  },
  {
   "cell_type": "code",
   "execution_count": null,
   "metadata": {},
   "outputs": [],
   "source": []
  }
 ],
 "metadata": {
  "kernelspec": {
   "display_name": "Python 3",
   "language": "python",
   "name": "python3"
  },
  "language_info": {
   "codemirror_mode": {
    "name": "ipython",
    "version": 3
   },
   "file_extension": ".py",
   "mimetype": "text/x-python",
   "name": "python",
   "nbconvert_exporter": "python",
   "pygments_lexer": "ipython3",
   "version": "3.9.18"
  }
 },
 "nbformat": 4,
 "nbformat_minor": 2
}
